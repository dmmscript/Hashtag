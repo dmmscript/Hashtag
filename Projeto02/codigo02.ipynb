{
 "cells": [
  {
   "cell_type": "code",
   "execution_count": null,
   "metadata": {
    "vscode": {
     "languageId": "plaintext"
    }
   },
   "outputs": [],
   "source": [
    "# passo 1: importar a base de dados\n",
    "# passo 2: visualizar a base de dados\n",
    "    # entender quais informações eu tenho disponíveis\n",
    "    # procurar problemas da base de dados\n",
    "# passo 3: corrigir os problemas da base de dados\n",
    "# passo 4: análise dos cancelamentos (quantos cancelaram, quantos não cancelram, qual o percentual)\n",
    "# passo 5: análise das causas dos cancelamentos dos clientes"
   ]
  }
 ],
 "metadata": {
  "language_info": {
   "name": "python"
  }
 },
 "nbformat": 4,
 "nbformat_minor": 2
}
